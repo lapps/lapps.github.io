{
 "cells": [
  {
   "cell_type": "markdown",
   "metadata": {},
   "source": [
    "# Finding all location names in a document\n",
    "\n",
    "This example assumes you have created a new history in Galaxy and loaded the *Gold Annotations* for a MASC document. Since the MASC document is the first document in a new history it will be item #1. If you are using an existing history (or document) for the exercise please adjust the history id accordingly in the following cells.\n",
    "\n",
    "**Step 1.** Load the document from Galaxy into the Notebook."
   ]
  },
  {
   "cell_type": "code",
   "execution_count": null,
   "metadata": {
    "collapsed": false
   },
   "outputs": [],
   "source": [
    "f = get(1)"
   ]
  },
  {
   "cell_type": "markdown",
   "metadata": {},
   "source": [
    "**Step 2.** Parse the document into a [LIF container](http://wiki.lappsgrid.org/org.lappsgrid.serialization/groovydoc/org/lappsgrid/serialization/lif/Container.html)"
   ]
  },
  {
   "cell_type": "code",
   "execution_count": null,
   "metadata": {
    "collapsed": false
   },
   "outputs": [],
   "source": [
    "data = parse(f.text, DataContainer)\n",
    "container = data.payload"
   ]
  },
  {
   "cell_type": "markdown",
   "metadata": {},
   "source": [
    "**Step 3.** Find the view that contains named entities."
   ]
  },
  {
   "cell_type": "code",
   "execution_count": null,
   "metadata": {
    "collapsed": false
   },
   "outputs": [],
   "source": [
    "view = container.views.find { it.metadata.contains[Uri.NE] }\n",
    "view.annotations.size()"
   ]
  },
  {
   "cell_type": "markdown",
   "metadata": {},
   "source": [
    "**Step 4.** Find just the LOCATION annotations"
   ]
  },
  {
   "cell_type": "code",
   "execution_count": null,
   "metadata": {
    "collapsed": false
   },
   "outputs": [],
   "source": [
    "locations = view.annotations.findAll { it.atType == Uri.LOCATION }\n",
    "locations.size()"
   ]
  },
  {
   "cell_type": "markdown",
   "metadata": {},
   "source": [
    "**Step 5.** Write a method (closure) to retrieve the span of text covered by an annotation."
   ]
  },
  {
   "cell_type": "code",
   "execution_count": null,
   "metadata": {
    "collapsed": false
   },
   "outputs": [],
   "source": [
    "getText = { Annotation a ->\n",
    "    return container.text.substring((int)a.start, (int)a.end)\n",
    "}"
   ]
  },
  {
   "cell_type": "markdown",
   "metadata": {},
   "source": [
    "**Step 6.** Get the text for each LOCATION annotation and store in a Set so we get a list of the unique location names."
   ]
  },
  {
   "cell_type": "code",
   "execution_count": null,
   "metadata": {
    "collapsed": false
   },
   "outputs": [],
   "source": [
    "unique = [] as HashSet\n",
    "locations.each { \n",
    "    unique << getText(it)\n",
    "}\n",
    "unique.size()"
   ]
  },
  {
   "cell_type": "markdown",
   "metadata": {},
   "source": [
    "**Step 7.** Write the locations to a temporary file and upload to Galaxy. We can (should) delete the temporary file when we are done with it.  Note that the name of the temporary file will be the name of the history item in Galaxy. That is why we don't use `File.createTempFile` as we want a human readable name in the Galaxy history. We also sort the set before writing to the file to make the output easier to read."
   ]
  },
  {
   "cell_type": "code",
   "execution_count": null,
   "metadata": {
    "collapsed": false
   },
   "outputs": [],
   "source": [
    "File t = new File('/tmp/Locations.txt')\n",
    "t.withWriter { writer ->\n",
    "    unique.sort().each { writer.println(it) }\n",
    "}\n",
    "put(t)\n",
    "t.delete()"
   ]
  },
  {
   "cell_type": "markdown",
   "metadata": {},
   "source": [
    "**Note** You will need to refresh the Galaxy history for the new history item to show up in the history."
   ]
  }
 ],
 "metadata": {
  "kernelspec": {
   "display_name": "LSD",
   "language": "groovy",
   "name": "lsd"
  },
  "language_info": {
   "codemirror_mode": "",
   "file_extension": ".groovy",
   "mimetype": "",
   "name": "Groovy",
   "nbconverter_exporter": "",
   "pygments_lexer": "",
   "version": "2.4.6"
  }
 },
 "nbformat": 4,
 "nbformat_minor": 0
}
